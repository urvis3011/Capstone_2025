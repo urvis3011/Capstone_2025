{
  "cells": [
    {
      "cell_type": "code",
      "execution_count": 1,
      "id": "c587b246",
      "metadata": {
        "id": "c587b246"
      },
      "outputs": [],
      "source": [
        "import pandas as pd\n",
        "from sklearn.model_selection import train_test_split\n",
        "from sklearn.preprocessing import LabelEncoder, StandardScaler\n",
        "\n",
        "# Load data\n",
        "df = pd.read_csv(\"modified.csv\")\n",
        "\n",
        "# Define target\n",
        "target = 'Life expectancy'\n",
        "\n",
        "# Define column roles\n",
        "categorical_cols = ['Gender']\n",
        "ignore_cols = ['Country', 'Year', 'Year.1', target]\n",
        "numerical_cols = [col for col in df.columns if col not in categorical_cols + ignore_cols]\n",
        "\n",
        "# Encode categorical variables\n",
        "df['Gender'] = LabelEncoder().fit_transform(df['Gender'])\n",
        "\n",
        "# Scale numerical features\n",
        "scaler = StandardScaler()\n",
        "df[numerical_cols] = scaler.fit_transform(df[numerical_cols])\n",
        "\n",
        "# Final feature set\n",
        "X = df[categorical_cols + numerical_cols]\n",
        "y = df[target]\n",
        "\n",
        "# Train/test split\n",
        "X_train, X_test, y_train, y_test = train_test_split(X, y, test_size=0.3, random_state=42)\n"
      ]
    },
    {
      "cell_type": "code",
      "execution_count": 2,
      "id": "beb6a755",
      "metadata": {
        "colab": {
          "base_uri": "https://localhost:8080/",
          "height": 383
        },
        "id": "beb6a755",
        "outputId": "b9a2f90c-da06-4869-f11a-30575e39a9ab"
      },
      "outputs": [
        {
          "output_type": "error",
          "ename": "ImportError",
          "evalue": "cannot import name 'TabTransformerRegressor' from 'rtdl' (/usr/local/lib/python3.11/dist-packages/rtdl/__init__.py)",
          "traceback": [
            "\u001b[0;31m---------------------------------------------------------------------------\u001b[0m",
            "\u001b[0;31mImportError\u001b[0m                               Traceback (most recent call last)",
            "\u001b[0;32m/tmp/ipython-input-2499361430.py\u001b[0m in \u001b[0;36m<cell line: 0>\u001b[0;34m()\u001b[0m\n\u001b[1;32m      1\u001b[0m \u001b[0;32mimport\u001b[0m \u001b[0mtorch\u001b[0m\u001b[0;34m\u001b[0m\u001b[0;34m\u001b[0m\u001b[0m\n\u001b[1;32m      2\u001b[0m \u001b[0;32mimport\u001b[0m \u001b[0mrtdl\u001b[0m\u001b[0;34m\u001b[0m\u001b[0;34m\u001b[0m\u001b[0m\n\u001b[0;32m----> 3\u001b[0;31m \u001b[0;32mfrom\u001b[0m \u001b[0mrtdl\u001b[0m \u001b[0;32mimport\u001b[0m \u001b[0mTabTransformerRegressor\u001b[0m\u001b[0;34m\u001b[0m\u001b[0;34m\u001b[0m\u001b[0m\n\u001b[0m\u001b[1;32m      4\u001b[0m \u001b[0;32mfrom\u001b[0m \u001b[0mtorch\u001b[0m \u001b[0;32mimport\u001b[0m \u001b[0mnn\u001b[0m\u001b[0;34m\u001b[0m\u001b[0;34m\u001b[0m\u001b[0m\n\u001b[1;32m      5\u001b[0m \u001b[0;32mfrom\u001b[0m \u001b[0mtorch\u001b[0m\u001b[0;34m.\u001b[0m\u001b[0mutils\u001b[0m\u001b[0;34m.\u001b[0m\u001b[0mdata\u001b[0m \u001b[0;32mimport\u001b[0m \u001b[0mTensorDataset\u001b[0m\u001b[0;34m,\u001b[0m \u001b[0mDataLoader\u001b[0m\u001b[0;34m\u001b[0m\u001b[0;34m\u001b[0m\u001b[0m\n",
            "\u001b[0;31mImportError\u001b[0m: cannot import name 'TabTransformerRegressor' from 'rtdl' (/usr/local/lib/python3.11/dist-packages/rtdl/__init__.py)",
            "",
            "\u001b[0;31m---------------------------------------------------------------------------\u001b[0;32m\nNOTE: If your import is failing due to a missing package, you can\nmanually install dependencies using either !pip or !apt.\n\nTo view examples of installing some common dependencies, click the\n\"Open Examples\" button below.\n\u001b[0;31m---------------------------------------------------------------------------\u001b[0m\n"
          ],
          "errorDetails": {
            "actions": [
              {
                "action": "open_url",
                "actionText": "Open Examples",
                "url": "/notebooks/snippets/importing_libraries.ipynb"
              }
            ]
          }
        }
      ],
      "source": [
        "import torch\n",
        "import rtdl\n",
        "from rtdl import TabTransformerRegressor\n",
        "from torch import nn\n",
        "from torch.utils.data import TensorDataset, DataLoader\n",
        "\n",
        "\n",
        "# Prepare input tensors\n",
        "device = torch.device('cuda' if torch.cuda.is_available() else 'cpu')\n",
        "\n",
        "X_train_tensor = torch.tensor(X_train.values, dtype=torch.float32).to(device)\n",
        "y_train_tensor = torch.tensor(y_train.values, dtype=torch.float32).unsqueeze(1).to(device)\n",
        "X_test_tensor = torch.tensor(X_test.values, dtype=torch.float32).to(device)\n",
        "y_test_tensor = torch.tensor(y_test.values, dtype=torch.float32).unsqueeze(1).to(device)\n",
        "\n",
        "# Get unique values for categorical columns (needed for embedding sizes)\n",
        "n_categories = [df[col].nunique() for col in categorical_cols]\n",
        "\n",
        "# Define the model\n",
        "model = TabTransformerRegressor(\n",
        "    n_continuous=len(numerical_cols),\n",
        "    n_classes=1,\n",
        "    n_categories=n_categories,\n",
        "    d_token=64,\n",
        "    n_layers=3,\n",
        "    n_heads=4,\n",
        "    dropout=0.1\n",
        ")\n"
      ]
    },
    {
      "cell_type": "code",
      "execution_count": null,
      "id": "d1eabf78",
      "metadata": {
        "id": "d1eabf78"
      },
      "outputs": [],
      "source": [
        "# Optimizer and loss\n",
        "optimizer = torch.optim.AdamW(model.parameters(), lr=1e-3)\n",
        "loss_fn = nn.MSELoss()\n",
        "\n",
        "# Dataloader\n",
        "train_dataset = TensorDataset(X_train_tensor, y_train_tensor)\n",
        "train_loader = DataLoader(train_dataset, batch_size=256, shuffle=True)\n",
        "\n",
        "# Training loop\n",
        "epochs = 20\n",
        "model.train()\n",
        "\n",
        "for epoch in range(epochs):\n",
        "    total_loss = 0\n",
        "    for xb, yb in train_loader:\n",
        "        optimizer.zero_grad()\n",
        "        preds = model(xb)\n",
        "        loss = loss_fn(preds, yb)\n",
        "        loss.backward()\n",
        "        optimizer.step()\n",
        "        total_loss += loss.item()\n",
        "    print(f\"Epoch {epoch+1}, Loss: {total_loss / len(train_loader):.4f}\")\n"
      ]
    },
    {
      "cell_type": "code",
      "source": [
        "\n",
        "device = torch.device(\"cuda\" if torch.cuda.is_available() else \"cpu\")\n",
        "\n",
        "# MODEL\n",
        "model = TabTransformer(\n",
        "    categories=(2,),  # 'Gender' column has 2 unique values\n",
        "    num_continuous=X_train.shape[1] - 1,  # excluding the categorical\n",
        "    dim=64,\n",
        "    dim_out=1,\n",
        "    depth=4,\n",
        "    heads=4,\n",
        "    attn_dropout=0.1,\n",
        "    ff_dropout=0.1\n",
        ").to(device)\n",
        "\n",
        "# INPUT TENSORS\n",
        "X_categ_train = torch.tensor(X_train.iloc[:, 0].values, dtype=torch.long).unsqueeze(1).to(device)\n",
        "X_cont_train = torch.tensor(X_train.iloc[:, 1:].values, dtype=torch.float32).to(device)\n",
        "y_train_tensor = torch.tensor(y_train.values, dtype=torch.float32).unsqueeze(1).to(device)\n",
        "\n",
        "X_categ_test = torch.tensor(X_test.iloc[:, 0].values, dtype=torch.long).unsqueeze(1).to(device)\n",
        "X_cont_test = torch.tensor(X_test.iloc[:, 1:].values, dtype=torch.float32).to(device)\n",
        "\n",
        "# DATALOADER\n",
        "train_dataset = TensorDataset(X_categ_train, X_cont_train, y_train_tensor)\n",
        "train_loader = DataLoader(train_dataset, batch_size=128, shuffle=True)\n",
        "\n",
        "# TRAINING\n",
        "loss_fn = nn.MSELoss()\n",
        "optimizer = torch.optim.Adam(model.parameters(), lr=1e-3)\n",
        "\n",
        "model.train()\n",
        "for epoch in range(10):\n",
        "    total_loss = 0\n",
        "    for x_cat, x_cont, yb in train_loader:\n",
        "        optimizer.zero_grad()\n",
        "        preds = model(x_cat, x_cont)\n",
        "        loss = loss_fn(preds, yb)\n",
        "        loss.backward()\n",
        "        optimizer.step()\n",
        "        total_loss += loss.item()\n",
        "    print(f\"Epoch {epoch+1}: Loss = {total_loss:.4f}\")\n"
      ],
      "metadata": {
        "colab": {
          "base_uri": "https://localhost:8080/"
        },
        "id": "qjOu4YFTYKdH",
        "outputId": "ca8a371e-fb54-4a0a-9377-4dcffaec3d98"
      },
      "id": "qjOu4YFTYKdH",
      "execution_count": 4,
      "outputs": [
        {
          "output_type": "stream",
          "name": "stdout",
          "text": [
            "Epoch 1: Loss = 22.4620\n",
            "Epoch 2: Loss = 8.6705\n",
            "Epoch 3: Loss = 7.1800\n",
            "Epoch 4: Loss = 6.3039\n",
            "Epoch 5: Loss = 5.8419\n",
            "Epoch 6: Loss = 5.2850\n",
            "Epoch 7: Loss = 4.8395\n",
            "Epoch 8: Loss = 4.4000\n",
            "Epoch 9: Loss = 4.0517\n",
            "Epoch 10: Loss = 3.5211\n"
          ]
        }
      ]
    },
    {
      "cell_type": "code",
      "execution_count": 8,
      "id": "38e1073e",
      "metadata": {
        "colab": {
          "base_uri": "https://localhost:8080/"
        },
        "id": "38e1073e",
        "outputId": "19c3ad7f-6070-4ac8-ecad-028c1f9d6175"
      },
      "outputs": [
        {
          "output_type": "stream",
          "name": "stdout",
          "text": [
            "\n",
            "MAE:  0.1837\n",
            "RMSE: 0.2519\n",
            "R²:   0.9352\n"
          ]
        }
      ],
      "source": [
        "from sklearn.metrics import mean_absolute_error, mean_squared_error, r2_score\n",
        "import numpy as np\n",
        "\n",
        "model.eval()\n",
        "with torch.no_grad():\n",
        "    preds = model(X_categ_test, X_cont_test).cpu().numpy().flatten()\n",
        "    actual = y_test_tensor.cpu().numpy().flatten()\n",
        "\n",
        "mae = mean_absolute_error(actual, preds)\n",
        "mse = mean_squared_error(actual, preds)\n",
        "rmse = np.sqrt(mse)\n",
        "r2 = r2_score(actual, preds)\n",
        "\n",
        "print(f\"\\nMAE:  {mae:.4f}\")\n",
        "print(f\"RMSE: {rmse:.4f}\")\n",
        "print(f\"R²:   {r2:.4f}\")\n"
      ]
    }
  ],
  "metadata": {
    "kernelspec": {
      "display_name": "base",
      "language": "python",
      "name": "python3"
    },
    "language_info": {
      "codemirror_mode": {
        "name": "ipython",
        "version": 3
      },
      "file_extension": ".py",
      "mimetype": "text/x-python",
      "name": "python",
      "nbconvert_exporter": "python",
      "pygments_lexer": "ipython3",
      "version": "3.12.4"
    },
    "colab": {
      "provenance": []
    }
  },
  "nbformat": 4,
  "nbformat_minor": 5
}