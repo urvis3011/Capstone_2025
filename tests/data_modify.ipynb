{
 "cells": [
  {
   "cell_type": "code",
   "execution_count": 1,
   "id": "68962f8a",
   "metadata": {},
   "outputs": [],
   "source": [
    "# Load the uploaded final dataset for inspection and preparation\n",
    "from sklearn.preprocessing import StandardScaler\n",
    "from sklearn.feature_selection import VarianceThreshold\n",
    "import pandas as pd\n",
    "import numpy as np"
   ]
  },
  {
   "cell_type": "code",
   "execution_count": 2,
   "id": "5fa3c370",
   "metadata": {},
   "outputs": [],
   "source": [
    "# Utility Functions\n",
    "def drop_highly_correlated_features(df, threshold=0.9):\n",
    "    \"\"\"Remove features that are highly correlated with each other.\"\"\"\n",
    "    corr_matrix = df.corr().abs()\n",
    "    upper = corr_matrix.where(np.triu(np.ones(corr_matrix.shape), k=1).astype(bool))\n",
    "    to_drop = [column for column in upper.columns if any(upper[column] > threshold)]\n",
    "    print(f\"Dropping {len(to_drop)} highly correlated features: {to_drop}\")\n",
    "    return df.drop(columns=to_drop)\n",
    "\n",
    "def remove_low_variance_features(df, threshold=0.01):\n",
    "    \"\"\"Remove features with very low variance.\"\"\"\n",
    "    selector = VarianceThreshold(threshold=threshold)\n",
    "    numeric_df = df.select_dtypes(include=[np.number])\n",
    "    filtered = selector.fit_transform(numeric_df)\n",
    "    retained_columns = numeric_df.columns[selector.get_support()]\n",
    "    print(f\"Retained {len(retained_columns)} features after low-variance filter.\")\n",
    "    return pd.DataFrame(filtered, columns=retained_columns)\n",
    "\n",
    "def scale_numeric_features(df):\n",
    "    \"\"\"Scale numeric features using StandardScaler.\"\"\"\n",
    "    scaler = StandardScaler()\n",
    "    numeric_df = df.select_dtypes(include=[np.number])\n",
    "    scaled = scaler.fit_transform(numeric_df)\n",
    "    return pd.DataFrame(scaled, columns=numeric_df.columns)"
   ]
  },
  {
   "cell_type": "code",
   "execution_count": 5,
   "id": "7f2346f3",
   "metadata": {},
   "outputs": [
    {
     "name": "stdout",
     "output_type": "stream",
     "text": [
      "Original dataset shape: (9928, 22)\n",
      "<class 'pandas.core.frame.DataFrame'>\n",
      "RangeIndex: 9928 entries, 0 to 9927\n",
      "Data columns (total 22 columns):\n",
      " #   Column                                   Non-Null Count  Dtype  \n",
      "---  ------                                   --------------  -----  \n",
      " 0   Country                                  9928 non-null   object \n",
      " 1   Year                                     9928 non-null   int64  \n",
      " 2   Gender                                   9928 non-null   object \n",
      " 3   Life expectancy                          9928 non-null   float64\n",
      " 4   Unemployment                             9928 non-null   float64\n",
      " 5   Infant Mortality                         9928 non-null   float64\n",
      " 6   GDP                                      9928 non-null   float64\n",
      " 7   GNI                                      9928 non-null   float64\n",
      " 8   Clean fuels and cooking technologies     9928 non-null   float64\n",
      " 9   Per Capita                               9928 non-null   float64\n",
      " 10  Mortality caused by road traffic injury  9928 non-null   float64\n",
      " 11  Tuberculosis Incidence                   9928 non-null   float64\n",
      " 12  DPT Immunization                         9928 non-null   float64\n",
      " 13  HepB3 Immunization                       9928 non-null   float64\n",
      " 14  Measles Immunization                     9928 non-null   float64\n",
      " 15  Hospital beds                            9928 non-null   float64\n",
      " 16  Basic sanitation services                9928 non-null   float64\n",
      " 17  Tuberculosis treatment                   9928 non-null   float64\n",
      " 18  Urban population                         9928 non-null   float64\n",
      " 19  Rural population                         9928 non-null   float64\n",
      " 20  Non-communicable Mortality               9928 non-null   float64\n",
      " 21  Sucide Rate                              9928 non-null   float64\n",
      "dtypes: float64(19), int64(1), object(2)\n",
      "memory usage: 1.7+ MB\n",
      "None\n"
     ]
    }
   ],
   "source": [
    "# Load dataset\n",
    "df = pd.read_csv(\"final.csv\")\n",
    "print(\"Original dataset shape:\", df.shape)\n",
    "print(df.info())"
   ]
  },
  {
   "cell_type": "code",
   "execution_count": 6,
   "id": "fd823c83",
   "metadata": {},
   "outputs": [],
   "source": [
    "# Drop non-numeric columns before transformation\n",
    "df_numeric = df.drop(columns=[\"Country\", \"Gender\"])\n"
   ]
  },
  {
   "cell_type": "code",
   "execution_count": 7,
   "id": "4e0db0cc",
   "metadata": {},
   "outputs": [
    {
     "name": "stdout",
     "output_type": "stream",
     "text": [
      "Dropping 3 highly correlated features: ['GNI', 'Measles Immunization', 'Rural population']\n"
     ]
    }
   ],
   "source": [
    "\n",
    "# Drop highly correlated features\n",
    "df_pruned = drop_highly_correlated_features(df_numeric, threshold=0.9)\n"
   ]
  },
  {
   "cell_type": "code",
   "execution_count": 8,
   "id": "6b94a517",
   "metadata": {},
   "outputs": [
    {
     "name": "stdout",
     "output_type": "stream",
     "text": [
      "Retained 17 features after low-variance filter.\n"
     ]
    }
   ],
   "source": [
    "\n",
    "# Remove low-variance features\n",
    "df_pruned = remove_low_variance_features(df_pruned, threshold=0.01)\n"
   ]
  },
  {
   "cell_type": "code",
   "execution_count": 9,
   "id": "c542c936",
   "metadata": {},
   "outputs": [],
   "source": [
    "\n",
    "# Scale numeric features\n",
    "df_scaled = scale_numeric_features(df_pruned)"
   ]
  },
  {
   "cell_type": "code",
   "execution_count": 10,
   "id": "099f0653",
   "metadata": {},
   "outputs": [],
   "source": [
    "# Combine with original non-scaled metadata\n",
    "df_final = pd.concat([\n",
    "    df[[\"Country\", \"Year\", \"Gender\"]].reset_index(drop=True),\n",
    "    df_scaled\n",
    "], axis=1)\n"
   ]
  },
  {
   "cell_type": "code",
   "execution_count": 12,
   "id": "a4ed781f",
   "metadata": {},
   "outputs": [
    {
     "name": "stdout",
     "output_type": "stream",
     "text": [
      "       Country  Year  Gender      Year  Life expectancy  Unemployment  \\\n",
      "0  Afghanistan  2000  Female -1.648134        -1.366900      0.908136   \n",
      "1  Afghanistan  2001  Female -1.474562        -1.315723      0.908624   \n",
      "2  Afghanistan  2002  Female -1.300989        -1.263686      0.990831   \n",
      "3  Afghanistan  2003  Female -1.127417        -1.210144      0.969223   \n",
      "4  Afghanistan  2004  Female -0.953845        -1.154774      0.940792   \n",
      "\n",
      "   Infant Mortality       GDP  Clean fuels and cooking technologies  \\\n",
      "0          2.151070 -0.278547                             -1.466177   \n",
      "1          2.060731 -0.278547                             -1.444533   \n",
      "2          1.970391 -0.279875                             -1.417478   \n",
      "3          1.868268 -0.279811                             -1.385013   \n",
      "4          1.770073 -0.279713                             -1.357958   \n",
      "\n",
      "   Per Capita  Mortality caused by road traffic injury  \\\n",
      "0   -0.629113                                -0.429232   \n",
      "1   -0.629113                                -0.380583   \n",
      "2   -0.642242                                -0.404908   \n",
      "3   -0.641663                                -0.392746   \n",
      "4   -0.640598                                -0.368421   \n",
      "\n",
      "   Tuberculosis Incidence  DPT Immunization  HepB3 Immunization  \\\n",
      "0                0.306431         -4.341670           -0.878865   \n",
      "1                0.300752         -3.708212           -0.878865   \n",
      "2                0.300752         -3.497059           -0.878865   \n",
      "3                0.300752         -3.145138           -0.878865   \n",
      "4                0.300752         -2.511680           -0.878865   \n",
      "\n",
      "   Hospital beds  Basic sanitation services  Tuberculosis treatment  \\\n",
      "0      -1.176152                  -1.664382                0.560754   \n",
      "1      -1.136748                  -1.664027                0.492984   \n",
      "2      -1.136748                  -1.616941                0.696294   \n",
      "3      -1.136748                  -1.569843                0.628524   \n",
      "4      -1.136748                  -1.522507                0.831834   \n",
      "\n",
      "   Urban population  Non-communicable Mortality  Sucide Rate  \n",
      "0         -1.492366                    2.034406    -0.525689  \n",
      "1         -1.488310                    2.116721    -0.525689  \n",
      "2         -1.484209                    2.163758    -0.543756  \n",
      "3         -1.480108                    2.116721    -0.543756  \n",
      "4         -1.473556                    2.128480    -0.543756  \n"
     ]
    }
   ],
   "source": [
    "# Just display the first few rows or save the file locally\n",
    "print(df_final.head())\n",
    "\n",
    "# OR save to CSV for further use\n",
    "df_final.to_csv(\"modified.csv\", index=False)\n"
   ]
  }
 ],
 "metadata": {
  "kernelspec": {
   "display_name": "base",
   "language": "python",
   "name": "python3"
  },
  "language_info": {
   "codemirror_mode": {
    "name": "ipython",
    "version": 3
   },
   "file_extension": ".py",
   "mimetype": "text/x-python",
   "name": "python",
   "nbconvert_exporter": "python",
   "pygments_lexer": "ipython3",
   "version": "3.12.4"
  }
 },
 "nbformat": 4,
 "nbformat_minor": 5
}
