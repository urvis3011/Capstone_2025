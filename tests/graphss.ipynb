{
 "cells": [
  {
   "cell_type": "code",
   "execution_count": null,
   "id": "07943abb",
   "metadata": {},
   "outputs": [],
   "source": [
    "import matplotlib.pyplot as plt\n",
    "\n",
    "# Data: performance of individual models and the ensemble\n",
    "models = ['ElasticNet', 'CatBoost', 'TabTransformer', 'Stacked Ensemble']\n",
    "mae_scores = [0.972, 0.622, 0.1837, 0.0512]\n",
    "rmse_scores = [1.374, 1.037, 0.2519, 0.0717]\n",
    "r2_scores = [0.894, 0.988, 0.9352, 0.9947]\n",
    "\n",
    "# Create bar plot for each metric\n",
    "fig, axes = plt.subplots(1, 3, figsize=(18, 5))\n",
    "\n",
    "# MAE\n",
    "axes[0].bar(models, mae_scores, color='skyblue')\n",
    "axes[0].set_title('Mean Absolute Error (MAE)')\n",
    "axes[0].set_ylabel('Error')\n",
    "axes[0].set_ylim(0, max(mae_scores) + 0.2)\n",
    "axes[0].grid(True, axis='y', linestyle='--', alpha=0.7)\n",
    "\n",
    "# RMSE\n",
    "axes[1].bar(models, rmse_scores, color='salmon')\n",
    "axes[1].set_title('Root Mean Squared Error (RMSE)')\n",
    "axes[1].set_ylim(0, max(rmse_scores) + 0.2)\n",
    "axes[1].grid(True, axis='y', linestyle='--', alpha=0.7)\n",
    "\n",
    "# R²\n",
    "axes[2].bar(models, r2_scores, color='mediumseagreen')\n",
    "axes[2].set_title('R² Score')\n",
    "axes[2].set_ylim(0.85, 1.01)\n",
    "axes[2].grid(True, axis='y', linestyle='--', alpha=0.7)\n",
    "\n",
    "plt.tight_layout()\n",
    "plt.savefig(\"/mnt/data/model_comparison_bar_plot.png\")\n",
    "plt.show()\n"
   ]
  }
 ],
 "metadata": {
  "kernelspec": {
   "display_name": "base",
   "language": "python",
   "name": "python3"
  },
  "language_info": {
   "name": "python",
   "version": "3.12.4"
  }
 },
 "nbformat": 4,
 "nbformat_minor": 5
}
